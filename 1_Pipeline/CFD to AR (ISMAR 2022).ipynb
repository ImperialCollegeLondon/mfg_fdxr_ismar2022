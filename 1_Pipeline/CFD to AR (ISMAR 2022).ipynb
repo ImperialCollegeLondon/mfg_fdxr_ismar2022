{
 "cells": [
  {
   "cell_type": "markdown",
   "id": "0e28351e",
   "metadata": {
    "scrolled": true
   },
   "source": [
    "##### [Step 1] Using ParaView, visualize and export your CFD model to X3D file format as a model.x3d file. "
   ]
  },
  {
   "cell_type": "markdown",
   "id": "7d709734",
   "metadata": {},
   "source": [
    "##### [Step 2] The following cell converts model.x3d file to model.obj file using a custom meshlab filter (meshlab\\x3d2obj.mlx). The filter corrects the orientation and extracts colour texture. Note: For large models (size > 100mb), consider reducing triangle count."
   ]
  },
  {
   "cell_type": "code",
   "execution_count": 4,
   "id": "4377c7d3",
   "metadata": {},
   "outputs": [],
   "source": [
    "!pip install pymeshlab\n",
    "import pymeshlab\n",
    "ms = pymeshlab.MeshSet()\n",
    "ms.load_new_mesh('model.x3d')\n",
    "ms.load_filter_script('meshlab\\x3d2obj.mlx')\n",
    "ms.apply_filter_script()\n",
    "ms.save_current_mesh('model.obj')\n"
   ]
  },
  {
   "cell_type": "markdown",
   "id": "f9b176cb",
   "metadata": {},
   "source": [
    "##### [Step 3] The following cell converts model.obj to model.gltf using a custom nodejs script. Before running this, please install nodejs runtime and the module inside nodejs folder in this directory."
   ]
  },
  {
   "cell_type": "code",
   "execution_count": 28,
   "id": "f42dc2ec",
   "metadata": {
    "scrolled": true
   },
   "outputs": [
    {
     "data": {
      "text/plain": [
       "b''"
      ]
     },
     "execution_count": 28,
     "metadata": {},
     "output_type": "execute_result"
    }
   ],
   "source": [
    "from subprocess import check_output\n",
    "check_output(['node','nodejs\\obj_convert_gltf.js'])\n"
   ]
  },
  {
   "cell_type": "markdown",
   "id": "f11091d7",
   "metadata": {},
   "source": [
    "##### [Step 4] The following cell converts model.obj to model.usdz. It uses an open source binary of usdz_converter for windows."
   ]
  },
  {
   "cell_type": "code",
   "execution_count": 26,
   "id": "0da1f21f",
   "metadata": {},
   "outputs": [
    {
     "name": "stdout",
     "output_type": "stream",
     "text": [
      "Input file: model.obj\n",
      "Output file: model.usdz\n",
      "usdARKitChecker: [Pass] model.usdz\n",
      "['usdz_converter/run_usd.py', 'usdz_converter/usdzconvert/usdzconvert', 'model.obj']\n",
      "Extending PYTHONPATH with: C:\\Users\\nbhatia\\Desktop\\Poster\\ismar\\scripts\\usdz_converter\\usdzconvert\n",
      "Skipping non-existing path: C:\\Users\\nbhatia\\Desktop\\Poster\\ismar\\scripts\\usdz_converter\\USD\\deps\\usdview-deps-python\n",
      "Extending PYTHONPATH with: C:\\Users\\nbhatia\\Desktop\\Poster\\ismar\\scripts\\usdz_converter\\USD\\lib\\python\n",
      "Extending PATH with: C:\\Users\\nbhatia\\Desktop\\Poster\\ismar\\scripts\\usdz_converter\\USD\\deps\\python\n",
      "Extending PATH with: C:\\Users\\nbhatia\\Desktop\\Poster\\ismar\\scripts\\usdz_converter\\USD\\lib\n",
      "Extending PATH with: C:\\Users\\nbhatia\\Desktop\\Poster\\ismar\\scripts\\usdz_converter\\USD\\bin\n",
      "Extending PATH with: C:\\Users\\nbhatia\\Desktop\\Poster\\ismar\\scripts\\usdz_converter\\USD\\plugin\\usd\n",
      "usdz_converter/usdzconvert/usdzconvert\n",
      "model.obj\n"
     ]
    }
   ],
   "source": [
    "!python usdz_converter/run_usd.py usdz_converter/usdzconvert/usdzconvert model.obj"
   ]
  }
 ],
 "metadata": {
  "kernelspec": {
   "display_name": "Python 3 (ipykernel)",
   "language": "python",
   "name": "python3"
  },
  "language_info": {
   "codemirror_mode": {
    "name": "ipython",
    "version": 3
   },
   "file_extension": ".py",
   "mimetype": "text/x-python",
   "name": "python",
   "nbconvert_exporter": "python",
   "pygments_lexer": "ipython3",
   "version": "3.9.12"
  }
 },
 "nbformat": 4,
 "nbformat_minor": 5
}
